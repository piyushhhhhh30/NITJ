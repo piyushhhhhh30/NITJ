{
 "cells": [
  {
   "cell_type": "code",
   "execution_count": null,
   "id": "3208ceba",
   "metadata": {},
   "outputs": [],
   "source": []
  },
  {
   "cell_type": "code",
   "execution_count": null,
   "id": "345693f0",
   "metadata": {},
   "outputs": [],
   "source": []
  },
  {
   "cell_type": "code",
   "execution_count": null,
   "id": "10e000ab",
   "metadata": {},
   "outputs": [],
   "source": []
  },
  {
   "cell_type": "code",
   "execution_count": 10,
   "id": "a400aad6",
   "metadata": {},
   "outputs": [
    {
     "name": "stdout",
     "output_type": "stream",
     "text": [
      "5\n",
      "7\n",
      "8\n",
      "8\n"
     ]
    }
   ],
   "source": [
    "#1. Write a program that finds greatest of three numbers using functions. Pass the\n",
    "numbers as arguments.\n",
    "def largest(a,b,c):\n",
    "    if a>=b and a>=c:\n",
    "        print(a)\n",
    "    elif b>=a and b>=c:\n",
    "        print(b)\n",
    "    else :\n",
    "        print(c)\n",
    "a=int(input(\"\"))\n",
    "b=int(input(\"\"))\n",
    "c=int(input(\"\"))\n",
    "largest(a,b,c)"
   ]
  },
  {
   "cell_type": "code",
   "execution_count": 26,
   "id": "fbb02ec6",
   "metadata": {},
   "outputs": [
    {
     "data": {
      "text/plain": [
       "10"
      ]
     },
     "execution_count": 26,
     "metadata": {},
     "output_type": "execute_result"
    }
   ],
   "source": [
    "#2. Write a program to implement these formulae of permutations and combinations.\n",
    "#Number of permutations of n objects taken r at a time: p(n, r) = n! / (n-r)!.\n",
    "#Number of combinations of n objects taken r at a time is: c(n, r) = n! / (r!*(n-r)!) =\n",
    "\n",
    "p(n,r) / r!\n",
    "def factorial(n):\n",
    "    fact=1\n",
    "    \n",
    "    for i in range(1,n+1):\n",
    "        fact=fact*i\n",
    "    \n",
    "    return fact\n",
    "def permutation(n,r):\n",
    "    return factorial(n) // factorial(n-r)\n",
    "permutation(5,3)\n",
    "def combination(n,r):\n",
    "    return permutation(n,r) // factorial(r)\n",
    "permutation(5,3)\n",
    "combination(5,3)"
   ]
  },
  {
   "cell_type": "code",
   "execution_count": 27,
   "id": "ed8584e6",
   "metadata": {},
   "outputs": [
    {
     "name": "stdout",
     "output_type": "stream",
     "text": [
      "153 is an Armstrong number.\n",
      "Armstrong numbers between 100 and 999 are:\n",
      "153\n",
      "370\n",
      "371\n",
      "407\n"
     ]
    }
   ],
   "source": [
    "#3. Write a function cubesum() that accepts an integer and returns the sum of the cubes of\n",
    "#individual digits of that number. Use this function to make functions PrintArmstrong()\n",
    "#and isArmstrong() to print Armstrong numbers and to find whether is an Armstrong\n",
    "#number.\n",
    "# Function to calculate the sum of the cubes of digits of a number\n",
    "def cubesum(num):\n",
    "    total = 0\n",
    "    while num > 0:\n",
    "        digit = num % 10  \n",
    "        total += digit ** 3  \n",
    "        num //= 10         \n",
    "    return total\n",
    "\n",
    "# Function to check if a number is an Armstrong number\n",
    "def isArmstrong(num):\n",
    "    return num == cubesum(num)\n",
    "\n",
    "# Function to print all Armstrong numbers within a given range\n",
    "def PrintArmstrong(start, end):\n",
    "    print(f\"Armstrong numbers between {start} and {end} are:\")\n",
    "    for num in range(start, end + 1):\n",
    "        if isArmstrong(num):\n",
    "            print(num)\n",
    "\n",
    "# Example usage\n",
    "num = 153\n",
    "if isArmstrong(num):\n",
    "    print(f\"{num} is an Armstrong number.\")\n",
    "else:\n",
    "    print(f\"{num} is not an Armstrong number.\")\n",
    "\n",
    "\n",
    "PrintArmstrong(100, 999)"
   ]
  },
  {
   "cell_type": "code",
   "execution_count": 28,
   "id": "d62604a6",
   "metadata": {},
   "outputs": [
    {
     "name": "stdout",
     "output_type": "stream",
     "text": [
      "[1, 4, 9, 16, 25, 36, 49, 64, 81, 100, 121, 144, 169, 196, 225, 256, 289, 324, 361, 400, 441, 484, 529, 576, 625, 676, 729, 784, 841, 900]\n"
     ]
    }
   ],
   "source": [
    "#4. Write a Python function to create and print a list where the values are the squares of\n",
    "#numbers between 1 and 30 (both included).\n",
    "def squares_list():\n",
    "  \n",
    "    squares = [x ** 2 for x in range(1, 31)]\n",
    "    \n",
    "   \n",
    "    print(squares)\n",
    "\n",
    "\n",
    "squares_list()"
   ]
  },
  {
   "cell_type": "code",
   "execution_count": 29,
   "id": "f0435825",
   "metadata": {},
   "outputs": [
    {
     "name": "stdout",
     "output_type": "stream",
     "text": [
      "12345678\n"
     ]
    }
   ],
   "source": [
    "#5. Given a string s = “1234” and an integer n = 5678, concatenate them as a single string\n",
    "#and then convert the result back to an integer. What is the final integer value?\n",
    "s = \"1234\"\n",
    "n = 5678\n",
    "\n",
    "\n",
    "concatenated_str = s + str(n)\n",
    "\n",
    "\n",
    "final_integer = int(concatenated_str)\n",
    "\n",
    "\n",
    "print(final_integer)"
   ]
  },
  {
   "cell_type": "code",
   "execution_count": 31,
   "id": "4369df8d",
   "metadata": {},
   "outputs": [
    {
     "name": "stdout",
     "output_type": "stream",
     "text": [
      "Please enter a positive integer: -1\n",
      "The number must be positive. Please try again.\n",
      "Please enter a positive integer: -1\n",
      "The number must be positive. Please try again.\n",
      "Please enter a positive integer: 4\n",
      " You entered a positive integer: 4\n"
     ]
    }
   ],
   "source": [
    "#6. Write a Python program that repeatedly asks the user to enter a positive integer. If the\n",
    "#user enters a negative number or zero, the program should ask again until a positive\n",
    "#integer is entered.\n",
    "def get_positive_integer():\n",
    "    while True:  # Keep asking until a valid input is received\n",
    "        try:\n",
    "           \n",
    "            num = int(input(\"Please enter a positive integer: \"))\n",
    "            \n",
    "           \n",
    "            if num > 0:\n",
    "                print(f\" You entered a positive integer: {num}\")\n",
    "                break  \n",
    "            else:\n",
    "                print(\"The number must be positive. Please try again.\")\n",
    "        \n",
    "        except ValueError:\n",
    "            print(\"Invalid input. Please enter a valid integer.\")\n",
    "\n",
    "\n",
    "get_positive_integer()"
   ]
  },
  {
   "cell_type": "code",
   "execution_count": null,
   "id": "56fab97e",
   "metadata": {},
   "outputs": [],
   "source": []
  }
 ],
 "metadata": {
  "kernelspec": {
   "display_name": "Python 3 (ipykernel)",
   "language": "python",
   "name": "python3"
  },
  "language_info": {
   "codemirror_mode": {
    "name": "ipython",
    "version": 3
   },
   "file_extension": ".py",
   "mimetype": "text/x-python",
   "name": "python",
   "nbconvert_exporter": "python",
   "pygments_lexer": "ipython3",
   "version": "3.11.7"
  }
 },
 "nbformat": 4,
 "nbformat_minor": 5
}
