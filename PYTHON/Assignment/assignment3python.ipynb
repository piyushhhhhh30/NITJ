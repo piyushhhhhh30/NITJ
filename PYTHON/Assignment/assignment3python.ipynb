{
 "cells": [
  {
   "cell_type": "code",
   "execution_count": 1,
   "id": "afc4b090",
   "metadata": {},
   "outputs": [
    {
     "name": "stdout",
     "output_type": "stream",
     "text": [
      "Enter your username: hghg\n",
      "Enter your PAN number: jhjh78\n",
      "Username: hghg, PAN: jhjh78 is invalid.\n"
     ]
    }
   ],
   "source": [
    "#Write a program that takes the user's name and pan card number as input. Validate the information using isX function and print the details.\n",
    "import re\n",
    "def validate_pan(pan):  \n",
    "    pan_pattern = r'^[A-Z]{5}[0-9]{4}[A-Z]{1}$'  \n",
    "    return bool(re.match(pan_pattern, pan))  \n",
    "\n",
    "username = input(\"Enter your username: \")  \n",
    "pan = input(\"Enter your PAN number: \")  \n",
    "\n",
    "if validate_pan(pan):  \n",
    "    print(f\"Username: {username}, PAN: {pan} is valid.\")  \n",
    "else:  \n",
    "    print(f\"Username: {username}, PAN: {pan} is invalid.\")"
   ]
  },
  {
   "cell_type": "code",
   "execution_count": 2,
   "id": "cf47d33f",
   "metadata": {},
   "outputs": [
    {
     "name": "stdout",
     "output_type": "stream",
     "text": [
      "Abecedarian Series:\n",
      "apple\n",
      "banana\n",
      "cherry\n",
      "date\n",
      "elderberry\n"
     ]
    }
   ],
   "source": [
    "#Write a program to generate an Abecedarian series. (a series in which elements appears in an alphabetical order)\n",
    "def generate_abecedarian_series(words):\n",
    "    # Sort the list of words in alphabetical order\n",
    "    sorted_words = sorted(words)\n",
    "    return sorted_words\n",
    "\n",
    "# Example usage\n",
    "words = [\"banana\", \"apple\", \"cherry\", \"date\", \"elderberry\"]\n",
    "abecedarian_series = generate_abecedarian_series(words)\n",
    "\n",
    "print(\"Abecedarian Series:\")\n",
    "for word in abecedarian_series:\n",
    "    print(word)\n"
   ]
  },
  {
   "cell_type": "code",
   "execution_count": 5,
   "id": "845eb1bd",
   "metadata": {},
   "outputs": [
    {
     "name": "stdout",
     "output_type": "stream",
     "text": [
      "The character 'o' occurs 2 times in the string.\n"
     ]
    }
   ],
   "source": [
    "#Write a program that counts the occurrences of a character in a string. Do not use built in functions.\n",
    "def count_character(string, char):  \n",
    "    count = 0  \n",
    "    for i in range(len(string)):  \n",
    "        if string[i] == char:  \n",
    "            count += 1  \n",
    "    return count  \n",
    "\n",
    "# Example usage  \n",
    "input_string = \"hello world\"  \n",
    "character_to_count = 'o'  \n",
    "result = count_character(input_string, character_to_count)  \n",
    "print(f\"The character '{character_to_count}' occurs {result} times in the string.\")"
   ]
  },
  {
   "cell_type": "code",
   "execution_count": 6,
   "id": "1b991055",
   "metadata": {},
   "outputs": [],
   "source": [
    "#Write a function that takes a list of words and returns the length of the longest one.\n",
    "def longest_length(words):  \n",
    "    if not words:  \n",
    "        return 0  \n",
    "    longest_word = max(words, key=len)  \n",
    "    return len(longest_word)"
   ]
  },
  {
   "cell_type": "code",
   "execution_count": 7,
   "id": "afe407c0",
   "metadata": {},
   "outputs": [
    {
     "name": "stdout",
     "output_type": "stream",
     "text": [
      "ab\n"
     ]
    }
   ],
   "source": [
    "#Write a function to get the first half of half of a specified string of even length.\n",
    "def first_half_of_half(s):\n",
    "    if len(s) % 2 != 0:\n",
    "        raise ValueError(\"The string must have an even length.\")\n",
    "    \n",
    "    half_length = len(s) // 2\n",
    "    first_half_of_half_length = half_length // 2\n",
    "    return s[:first_half_of_half_length]\n",
    "\n",
    "# Example usage:\n",
    "string = \"abcdefgh\"\n",
    "result = first_half_of_half(string)\n",
    "print(result)  # Output: \"a\"\n"
   ]
  },
  {
   "cell_type": "code",
   "execution_count": 8,
   "id": "c9627d25",
   "metadata": {},
   "outputs": [
    {
     "name": "stdout",
     "output_type": "stream",
     "text": [
      "wollo herld\n"
     ]
    }
   ],
   "source": [
    "#Write a program to get a single string from two given strings separated by a space and swap the first two characters of each string.\n",
    "def swap_and_combine(str1, str2):\n",
    "    # Check if both strings have at least 2 characters\n",
    "    if len(str1) < 2 or len(str2) < 2:\n",
    "        raise ValueError(\"Both strings must have at least 2 characters.\")\n",
    "    \n",
    "    # Swap the first two characters of each string\n",
    "    swapped_str1 = str2[:2] + str1[2:]\n",
    "    swapped_str2 = str1[:2] + str2[2:]\n",
    "    \n",
    "    # Combine the strings with a space in between\n",
    "    combined_result = f\"{swapped_str1} {swapped_str2}\"\n",
    "    \n",
    "    return combined_result\n",
    "\n",
    "# Example usage:\n",
    "string1 = \"hello\"\n",
    "string2 = \"world\"\n",
    "result = swap_and_combine(string1, string2)\n",
    "print(result)  # Output: \"wo llo\"\n"
   ]
  },
  {
   "cell_type": "code",
   "execution_count": null,
   "id": "6b508435",
   "metadata": {},
   "outputs": [],
   "source": [
    "#Write a program to print floating point numbers with no decimal places.\n",
    "float_numbers = [3.14, 2.71, 1.0, 4.5, 5.999]\n",
    "\n",
    "# Print each number without decimal places\n",
    "for number in float_numbers:\n",
    "    print(int(number))\n"
   ]
  }
 ],
 "metadata": {
  "kernelspec": {
   "display_name": "Python 3 (ipykernel)",
   "language": "python",
   "name": "python3"
  },
  "language_info": {
   "codemirror_mode": {
    "name": "ipython",
    "version": 3
   },
   "file_extension": ".py",
   "mimetype": "text/x-python",
   "name": "python",
   "nbconvert_exporter": "python",
   "pygments_lexer": "ipython3",
   "version": "3.9.7"
  }
 },
 "nbformat": 4,
 "nbformat_minor": 5
}
