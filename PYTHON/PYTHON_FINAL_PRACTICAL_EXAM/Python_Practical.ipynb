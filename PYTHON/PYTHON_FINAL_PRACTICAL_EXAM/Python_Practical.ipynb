{
 "cells": [
  {
   "cell_type": "code",
   "execution_count": 3,
   "id": "b35e4867",
   "metadata": {},
   "outputs": [
    {
     "name": "stdout",
     "output_type": "stream",
     "text": [
      "*  *  *  *  *  \n",
      "\n",
      "*  *  *  *  \n",
      "\n",
      "*  *  *  \n",
      "\n",
      "*  *  \n",
      "\n",
      "*  \n",
      "\n"
     ]
    }
   ],
   "source": [
    "def inverted_half_pyramid(n):\n",
    "    for i in range(n, 0, -1):\n",
    "        for j in range(1, i + 1):\n",
    "            print(\"* \", end=\" \")\n",
    "        print(\"\\n\")\n",
    "\n",
    "\n",
    "n = 5\n",
    "inverted_half_pyramid(n)"
   ]
  },
  {
   "cell_type": "code",
   "execution_count": 1,
   "id": "5d97e775",
   "metadata": {},
   "outputs": [
    {
     "name": "stdout",
     "output_type": "stream",
     "text": [
      "Area: 50.00\n",
      "Area: 153.94\n",
      "Area: 24.00\n",
      "Area: 12.57\n"
     ]
    }
   ],
   "source": [
    "import math\n",
    "\n",
    "# Base class\n",
    "class Shape:\n",
    "    def area(self):\n",
    "        pass\n",
    "\n",
    "# Subclass for Rectangle\n",
    "class Rectangle(Shape):\n",
    "    def __init__(self, width, height):\n",
    "        self.width = width\n",
    "        self.height = height\n",
    "\n",
    "    def area(self):\n",
    "        return self.width * self.height\n",
    "\n",
    "# Subclass for Circle\n",
    "class Circle(Shape):\n",
    "    def __init__(self, radius):\n",
    "        self.radius = radius\n",
    "\n",
    "    def area(self):\n",
    "        return math.pi * self.radius**2\n",
    "\n",
    "# Main program\n",
    "shapes = [\n",
    "    Rectangle(10, 5),\n",
    "    Circle(7),\n",
    "    Rectangle(3, 8),\n",
    "    Circle(2),\n",
    "]\n",
    "\n",
    "for shape in shapes:\n",
    "    print(f\"Area: {shape.area():.2f}\")\n",
    "\n",
    "  \n",
    "\n"
   ]
  },
  {
   "cell_type": "code",
   "execution_count": null,
   "id": "c16c0538",
   "metadata": {},
   "outputs": [],
   "source": [
    "import re\n",
    "from collections import Counter\n",
    "\n",
    "def read_file(file_path):\n",
    "    \"\"\"\n",
    "    Reads and returns the content of a file.\n",
    "    \"\"\"\n",
    "    try:\n",
    "        with open(file_path, 'r') as file:\n",
    "            return file.read()\n",
    "    except FileNotFoundError:\n",
    "        print(f\"Error: File '{file_path}' not found.\")\n",
    "        return \"\"\n",
    "    except Exception as e:\n",
    "        print(f\"An error occurred: {e}\")\n",
    "        return \"\"\n",
    "\n",
    "def count_words(content):\n",
    "    \n",
    "    words = re.findall(r'\\b\\w+\\b', content.lower())\n",
    "    return Counter(words)\n",
    "\n",
    "def display_top_words(word_counts, n=10):\n",
    "   \n",
    "    print(f\"Top {n} most frequent words:\")\n",
    "    for word, count in word_counts.most_common(n):\n",
    "        print(f\"{word}: {count}\")\n",
    "\n",
    "# Main script\n",
    "if __name__ == \"__main__\":\n",
    "    file_path = input(\"Enter the path to the text file: \")\n",
    "    content = read_file(file_path)\n",
    "    if content:\n",
    "        word_counts = count_words(content)\n",
    "        display_top_words(word_counts, 10)\n"
   ]
  },
  {
   "cell_type": "code",
   "execution_count": null,
   "id": "75a05416",
   "metadata": {},
   "outputs": [],
   "source": []
  }
 ],
 "metadata": {
  "kernelspec": {
   "display_name": "Python 3 (ipykernel)",
   "language": "python",
   "name": "python3"
  },
  "language_info": {
   "codemirror_mode": {
    "name": "ipython",
    "version": 3
   },
   "file_extension": ".py",
   "mimetype": "text/x-python",
   "name": "python",
   "nbconvert_exporter": "python",
   "pygments_lexer": "ipython3",
   "version": "3.9.7"
  }
 },
 "nbformat": 4,
 "nbformat_minor": 5
}
