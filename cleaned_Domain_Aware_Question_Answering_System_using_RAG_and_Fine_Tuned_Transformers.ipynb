{
  "cells": [
    {
      "cell_type": "markdown",
      "metadata": {
        "id": "view-in-github",
        "colab_type": "text"
      },
      "source": [
        "<a href=\"https://colab.research.google.com/github/piyushhhhhh30/NITJ/blob/main/cleaned_Domain_Aware_Question_Answering_System_using_RAG_and_Fine_Tuned_Transformers.ipynb\" target=\"_parent\"><img src=\"https://colab.research.google.com/assets/colab-badge.svg\" alt=\"Open In Colab\"/></a>"
      ]
    },
    {
      "cell_type": "code",
      "execution_count": null,
      "metadata": {
        "colab": {
          "base_uri": "https://localhost:8080/"
        },
        "id": "oukj5LteZuEq",
        "outputId": "bb3ab699-33b6-40bd-b74f-ad96064cafd6"
      },
      "outputs": [
        {
          "name": "stdout",
          "output_type": "stream",
          "text": [
            "\u001b[2K   \u001b[90m━━━━━━━━━━━━━━━━━━━━━━━━━━━━━━━━━━━━━━━━\u001b[0m \u001b[32m31.3/31.3 MB\u001b[0m \u001b[31m31.8 MB/s\u001b[0m eta \u001b[36m0:00:00\u001b[0m\n",
            "\u001b[2K   \u001b[90m━━━━━━━━━━━━━━━━━━━━━━━━━━━━━━━━━━━━━━━━\u001b[0m \u001b[32m363.4/363.4 MB\u001b[0m \u001b[31m3.3 MB/s\u001b[0m eta \u001b[36m0:00:00\u001b[0m\n",
            "\u001b[2K   \u001b[90m━━━━━━━━━━━━━━━━━━━━━━━━━━━━━━━━━━━━━━━━\u001b[0m \u001b[32m13.8/13.8 MB\u001b[0m \u001b[31m24.7 MB/s\u001b[0m eta \u001b[36m0:00:00\u001b[0m\n",
            "\u001b[2K   \u001b[90m━━━━━━━━━━━━━━━━━━━━━━━━━━━━━━━━━━━━━━━━\u001b[0m \u001b[32m24.6/24.6 MB\u001b[0m \u001b[31m15.0 MB/s\u001b[0m eta \u001b[36m0:00:00\u001b[0m\n",
            "\u001b[2K   \u001b[90m━━━━━━━━━━━━━━━━━━━━━━━━━━━━━━━━━━━━━━━━\u001b[0m \u001b[32m883.7/883.7 kB\u001b[0m \u001b[31m20.2 MB/s\u001b[0m eta \u001b[36m0:00:00\u001b[0m\n",
            "\u001b[2K   \u001b[90m━━━━━━━━━━━━━━━━━━━━━━━━━━━━━━━━━━━━━━━━\u001b[0m \u001b[32m664.8/664.8 MB\u001b[0m \u001b[31m3.1 MB/s\u001b[0m eta \u001b[36m0:00:00\u001b[0m\n",
            "\u001b[2K   \u001b[90m━━━━━━━━━━━━━━━━━━━━━━━━━━━━━━━━━━━━━━━━\u001b[0m \u001b[32m211.5/211.5 MB\u001b[0m \u001b[31m5.8 MB/s\u001b[0m eta \u001b[36m0:00:00\u001b[0m\n",
            "\u001b[2K   \u001b[90m━━━━━━━━━━━━━━━━━━━━━━━━━━━━━━━━━━━━━━━━\u001b[0m \u001b[32m56.3/56.3 MB\u001b[0m \u001b[31m10.5 MB/s\u001b[0m eta \u001b[36m0:00:00\u001b[0m\n",
            "\u001b[2K   \u001b[90m━━━━━━━━━━━━━━━━━━━━━━━━━━━━━━━━━━━━━━━━\u001b[0m \u001b[32m127.9/127.9 MB\u001b[0m \u001b[31m7.4 MB/s\u001b[0m eta \u001b[36m0:00:00\u001b[0m\n",
            "\u001b[2K   \u001b[90m━━━━━━━━━━━━━━━━━━━━━━━━━━━━━━━━━━━━━━━━\u001b[0m \u001b[32m207.5/207.5 MB\u001b[0m \u001b[31m6.1 MB/s\u001b[0m eta \u001b[36m0:00:00\u001b[0m\n",
            "\u001b[2K   \u001b[90m━━━━━━━━━━━━━━━━━━━━━━━━━━━━━━━━━━━━━━━━\u001b[0m \u001b[32m21.1/21.1 MB\u001b[0m \u001b[31m86.6 MB/s\u001b[0m eta \u001b[36m0:00:00\u001b[0m\n",
            "\u001b[?25h"
          ]
        }
      ],
      "source": [
        "!pip install -q faiss-cpu sentence-transformers transformers datasets langchain\n"
      ]
    },
    {
      "cell_type": "code",
      "execution_count": null,
      "metadata": {
        "colab": {
          "base_uri": "https://localhost:8080/"
        },
        "id": "bgMW-L20Zv5e",
        "outputId": "f89a92aa-711a-4e4f-db27-d8687f62a037"
      },
      "outputs": [
        {
          "name": "stdout",
          "output_type": "stream",
          "text": [
            "['Digital banking allows users to transfer funds online via NEFT or RTGS.\\nTransactions above ₹2 lakh require OTP and two-step authentication.', 'Failed transactions may be reversed within 2–3 business days.']\n"
          ]
        }
      ],
      "source": [
        "from langchain.text_splitter import RecursiveCharacterTextSplitter\n",
        "\n",
        "# Example content\n",
        "text = \"\"\"\n",
        "Digital banking allows users to transfer funds online via NEFT or RTGS.\n",
        "Transactions above ₹2 lakh require OTP and two-step authentication.\n",
        "Failed transactions may be reversed within 2–3 business days.\n",
        "\"\"\"\n",
        "\n",
        "# Split into chunks\n",
        "splitter = RecursiveCharacterTextSplitter(chunk_size=200, chunk_overlap=30)\n",
        "documents = splitter.create_documents([text])\n",
        "docs = [doc.page_content for doc in documents]\n",
        "\n",
        "print(docs)\n"
      ]
    },
    {
      "cell_type": "code",
      "execution_count": null,
      "metadata": {
        "colab": {
          "base_uri": "https://localhost:8080/",
          "height": 473,
          "referenced_widgets": [
            "2c16bf1c8daa4237811a1e0ac2aeef1f",
            "a64a8c2a42e04da9aa9c8c77362c8d50",
            "ba827e6b50dd44378cc93cdbe1cb6938",
            "2cb37788ad5c4a279e9cea62793eba0f",
            "ddf318f27f434d4ab04b3b9d6f866364",
            "be9d4082d6704a91a99f55cd4c9d796a",
            "d42c1d566f434bfb8a31f1569b00b29d",
            "414e558481054e1e86fb021e55ba3beb",
            "4baadb01c60c46e586ac45d3d016ff7e",
            "767b17d0024f477ca1bcd515967e032b",
            "3c3110f2c213493dba850e644be38e5b",
            "55b4ccb43b3f4232bcf5b8ed8a15aa35",
            "29d354f350fa4e24a37c8bf928ec1b6a",
            "5b12a55a6fdb46dea2d3d9a8898e1b3b",
            "252a8ab29ba54287825c60fbfec4f81d",
            "9be5289c519d4bad99efef9d1dcff83c",
            "b57c4dee1d334961811e3ff37a22d6db",
            "862f0676c7824d6f8a63efc356764dfb",
            "d2f4d7b4754e42a1bf32be75800deb52",
            "9ca7ed0326dd4150b1ab924b80f34f13",
            "7ced843cf4684d12beca9beeada5fff9",
            "a1896e4a38a04b3cb2d3021eab87a193",
            "23f41a1382e3428e89a44ab2b6f667f9",
            "5fe7148a85cf4f4084536366453a73cc",
            "35a3ab330b874e42962758e2b9747d44",
            "9074ffabe1614a4887d129f1d003b2f1",
            "d420006e6e894481964a6e01b1cfced2",
            "77fa15d17d4d4fa1b3f3e06a67b1a9fa",
            "8c49b41d725749649388ac69492123de",
            "f60eeb09deea4209ade656be1e8b314c",
            "f6ea0f628f1c4899b1d52db75639bfdb",
            "1ddb0e37e8b343f9aa3de562e95b735e",
            "a29de766abca4701a444b6711724ff8f",
            "9b8c508d9aea4843b5ad3e1436cf5dcc",
            "0fd6ea21a8ab43f6935eb186d6117df0",
            "c92e0bc394d24144ae8b2001a612090c",
            "480ccf65fe1f4715bb841b523405b008",
            "0ad29732e3ed4c65b5d0163ae86bdb04",
            "5ace02b7382941fe896e158551786903",
            "f2c7206da6734797b760cdb603bd25aa",
            "ff596632d58e451c8d094418260025e9",
            "1920e30a057b4a42adc9196073a75fef",
            "1be538145ed544f9819f3d9de2847cd8",
            "363ac0438ce94a90bf5b763f84c7dee1",
            "1d577cf0d2d04439b59db6eb0852c7bd",
            "9673b6a80be14f58a8de8e0f4a274b1f",
            "79f88676dbac417fabd880c5b412a81e",
            "6807dedc73984b03856d4e5b9a8820f3",
            "c789a06575c74aa8a97810cb868793b8",
            "2a615321d03c4965b3480c750e64413d",
            "adf28f2b1f5e4952b553e1e25d833322",
            "1f353e2078be4d599cc626dacbdf4f95",
            "33a73461ea2c47a699a74425777ac90a",
            "aad6ad4e1d0249cba7ca54e4a5b3c4ce",
            "bb70e8c12db74aa4a9112ce5645870de",
            "052d9472f5a44eada71911f3cef3c33e",
            "4d2e2e0c4da84868b51bcf894c054504",
            "17bc7e75d1744888a9382292fc8960bc",
            "de8ee2405f2144c5acea189019b7fc0e",
            "2bdfc56bbe9c4dde83464a749a72890d",
            "979984510de6445a90d9fb75dbcb3bfc",
            "cad9ca1bb4b548dcaa17aca86fb89d16",
            "e6152052152c4ea8852b1cbfefc7ec30",
            "de29f5beeead487c937081dee90ba6d4",
            "547cda2dfa8e428b8110cffdd27ae0a9",
            "55e6d2c47cd743abb45db6e9ac719398",
            "dc7fb3b721b64f0cbd87e85b55958a8c",
            "473a320b16454ceaa4edb26963b149e8",
            "b4ae9535c3024d01a25510e297228746",
            "5bbc873430d440b49e268c1b86ba9ed9",
            "359947e545db4370869ce88ada99eac2",
            "d75d847274744d1cba8a882ab10e4d08",
            "8e8c4e754bc345cfbb2837b6fa5c5a81",
            "818e09a7b692499abff6c8f6bd9e5cbe",
            "73eb467ad9c24f8a81f9e07f2d724c18",
            "2b8e628ac61f486f81ba7f6e27f60d23",
            "520f7656882142de9edb809a7df8078d",
            "8980bc90f28747cfb78b92737d061254",
            "02a13b4dae554f9ebe489d22b079597d",
            "2689b112bdc04810b47b32c7dca15e35",
            "c15d495a57744943ab6fe15f163f02ea",
            "3aea95b2522740de95c395ef7bc77732",
            "0a0d3047c8764582ad72186fd78f7fb0",
            "8714f781719a412ab17b8925edf1e2bb",
            "dbebd880f85345bf9fc208e92809a200",
            "9ae12a1396204abeb9282dc543d5ace5",
            "22ed2b579a7b4d6594a8b1eb2033302d",
            "0643d93e4ce94f7baef1f95fdd8015db",
            "4f94e31bd3c742be84896694ef63b282",
            "50ac3f84f9fb4b57a4136e6e52ad9748",
            "96eb48745ba64f6c820c70e648048a9e",
            "f74b98664caf40a581709f13f0b4dab6",
            "6582dfa2851c42b781147957d535f780",
            "1603d9cc10954bc3ada298262ac0efde",
            "7681cb92550c400eb4884b75c7e1b94d",
            "a45ae6641d0d401d9235ab089cf5b88a",
            "4602f34b1c02457a92867a61698a7feb",
            "d0d0c988d73047768753f84336d42e86",
            "df07fbb6c1c14a1194d9ee47a09426a0",
            "8e4daef92e8d4ca991d451551d3c1176",
            "3de55d19ecb4481ea8d838c640e46456",
            "9796ac2e38b24b33ae55673dbd30ba1d",
            "725983b09a3f401abfaf8088c5d61386",
            "61555ccf426e428b9d3955974f4bd75e",
            "2de0dfd8989e4d439c4065cdc2dd324e",
            "14a7574282e44e7aa41480576d8b248f",
            "39c8f26146f64317a85a53a6bf9abe99",
            "d207742a93be46199dbba3e45139be78",
            "dcdb64fc8547468ea6f1507c4c18ef87",
            "8dc7eb5a3175478f91931e1200d974e2",
            "5a5a378dd18b428ba0dbecdd5e60598b",
            "125ddcd5da784c37b3faf2efa2a8f95c",
            "c7350ca5ee084dada8b45242da22f1a5",
            "4b13d751dc9747e4b619eb3ea8518eb4",
            "ac9bbdb7fe58442ea2a44e6e11c5c162",
            "8b4f8ed7b9fe4d91bce9714d37fb6646",
            "9c0b70f6c17e40228951a6c2f8535f5c",
            "956e0de6edaa42259411b1643d426996",
            "8bbd499b873c470d85186c5661972cd6",
            "1ad26f19124f4d3ea283e0f742cd3c3e",
            "a133883493cb4a1390064c9a7b16228e"
          ]
        },
        "id": "0y_G_9pVaTfv",
        "outputId": "7acc098b-9ea3-47b8-c83d-9f2cef515edf"
      },
      "outputs": [
        {
          "name": "stderr",
          "output_type": "stream",
          "text": [
            "/usr/local/lib/python3.11/dist-packages/huggingface_hub/utils/_auth.py:94: UserWarning: \n",
            "The secret `HF_TOKEN` does not exist in your Colab secrets.\n",
            "To authenticate with the Hugging Face Hub, create a token in your settings tab (https://huggingface.co/settings/tokens), set it as secret in your Google Colab and restart your session.\n",
            "You will be able to reuse this secret in all of your notebooks.\n",
            "Please note that authentication is recommended but still optional to access public models or datasets.\n",
            "  warnings.warn(\n"
          ]
        },
        {
          "data": {
            "application/vnd.jupyter.widget-view+json": {
              "model_id": "2c16bf1c8daa4237811a1e0ac2aeef1f",
              "version_major": 2,
              "version_minor": 0
            },
            "text/plain": [
              "modules.json:   0%|          | 0.00/349 [00:00<?, ?B/s]"
            ]
          },
          "metadata": {},
          "output_type": "display_data"
        },
        {
          "data": {
            "application/vnd.jupyter.widget-view+json": {
              "model_id": "55b4ccb43b3f4232bcf5b8ed8a15aa35",
              "version_major": 2,
              "version_minor": 0
            },
            "text/plain": [
              "config_sentence_transformers.json:   0%|          | 0.00/116 [00:00<?, ?B/s]"
            ]
          },
          "metadata": {},
          "output_type": "display_data"
        },
        {
          "data": {
            "application/vnd.jupyter.widget-view+json": {
              "model_id": "23f41a1382e3428e89a44ab2b6f667f9",
              "version_major": 2,
              "version_minor": 0
            },
            "text/plain": [
              "README.md:   0%|          | 0.00/10.5k [00:00<?, ?B/s]"
            ]
          },
          "metadata": {},
          "output_type": "display_data"
        },
        {
          "data": {
            "application/vnd.jupyter.widget-view+json": {
              "model_id": "9b8c508d9aea4843b5ad3e1436cf5dcc",
              "version_major": 2,
              "version_minor": 0
            },
            "text/plain": [
              "sentence_bert_config.json:   0%|          | 0.00/53.0 [00:00<?, ?B/s]"
            ]
          },
          "metadata": {},
          "output_type": "display_data"
        },
        {
          "data": {
            "application/vnd.jupyter.widget-view+json": {
              "model_id": "1d577cf0d2d04439b59db6eb0852c7bd",
              "version_major": 2,
              "version_minor": 0
            },
            "text/plain": [
              "config.json:   0%|          | 0.00/612 [00:00<?, ?B/s]"
            ]
          },
          "metadata": {},
          "output_type": "display_data"
        },
        {
          "data": {
            "application/vnd.jupyter.widget-view+json": {
              "model_id": "052d9472f5a44eada71911f3cef3c33e",
              "version_major": 2,
              "version_minor": 0
            },
            "text/plain": [
              "model.safetensors:   0%|          | 0.00/90.9M [00:00<?, ?B/s]"
            ]
          },
          "metadata": {},
          "output_type": "display_data"
        },
        {
          "data": {
            "application/vnd.jupyter.widget-view+json": {
              "model_id": "dc7fb3b721b64f0cbd87e85b55958a8c",
              "version_major": 2,
              "version_minor": 0
            },
            "text/plain": [
              "tokenizer_config.json:   0%|          | 0.00/350 [00:00<?, ?B/s]"
            ]
          },
          "metadata": {},
          "output_type": "display_data"
        },
        {
          "data": {
            "application/vnd.jupyter.widget-view+json": {
              "model_id": "8980bc90f28747cfb78b92737d061254",
              "version_major": 2,
              "version_minor": 0
            },
            "text/plain": [
              "vocab.txt:   0%|          | 0.00/232k [00:00<?, ?B/s]"
            ]
          },
          "metadata": {},
          "output_type": "display_data"
        },
        {
          "data": {
            "application/vnd.jupyter.widget-view+json": {
              "model_id": "4f94e31bd3c742be84896694ef63b282",
              "version_major": 2,
              "version_minor": 0
            },
            "text/plain": [
              "tokenizer.json:   0%|          | 0.00/466k [00:00<?, ?B/s]"
            ]
          },
          "metadata": {},
          "output_type": "display_data"
        },
        {
          "data": {
            "application/vnd.jupyter.widget-view+json": {
              "model_id": "8e4daef92e8d4ca991d451551d3c1176",
              "version_major": 2,
              "version_minor": 0
            },
            "text/plain": [
              "special_tokens_map.json:   0%|          | 0.00/112 [00:00<?, ?B/s]"
            ]
          },
          "metadata": {},
          "output_type": "display_data"
        },
        {
          "data": {
            "application/vnd.jupyter.widget-view+json": {
              "model_id": "5a5a378dd18b428ba0dbecdd5e60598b",
              "version_major": 2,
              "version_minor": 0
            },
            "text/plain": [
              "config.json:   0%|          | 0.00/190 [00:00<?, ?B/s]"
            ]
          },
          "metadata": {},
          "output_type": "display_data"
        }
      ],
      "source": [
        "from sentence_transformers import SentenceTransformer\n",
        "import faiss\n",
        "import numpy as np\n",
        "\n",
        "embedder = SentenceTransformer('all-MiniLM-L6-v2')\n",
        "doc_embeddings = embedder.encode(docs)\n",
        "\n",
        "index = faiss.IndexFlatL2(doc_embeddings[0].shape[0])\n",
        "index.add(np.array(doc_embeddings))\n"
      ]
    },
    {
      "cell_type": "code",
      "execution_count": null,
      "metadata": {
        "colab": {
          "base_uri": "https://localhost:8080/"
        },
        "id": "cA4iDqy9aUSd",
        "outputId": "411689f2-8996-40a9-e4f9-e5935ad4994e"
      },
      "outputs": [
        {
          "name": "stdout",
          "output_type": "stream",
          "text": [
            "Failed transactions may be reversed within 2–3 business days.\n",
            "Digital banking allows users to transfer funds online via NEFT or RTGS.\n",
            "Transactions above ₹2 lakh require OTP and two-step authentication.\n"
          ]
        }
      ],
      "source": [
        "query = \"How do I reverse a failed transaction?\"\n",
        "query_vec = embedder.encode([query])\n",
        "_, retrieved_idx = index.search(np.array(query_vec), k=2)\n",
        "\n",
        "retrieved_docs = [docs[i] for i in retrieved_idx[0]]\n",
        "print(\"\\n\".join(retrieved_docs))\n"
      ]
    },
    {
      "cell_type": "code",
      "execution_count": null,
      "metadata": {
        "colab": {
          "base_uri": "https://localhost:8080/",
          "height": 276,
          "referenced_widgets": [
            "3c435a36475b44749e018eaadb9bdbd7",
            "350c4ab4cd1a43f4962e0c8b455fc73d",
            "330d147a1115416890827d2c0091810a",
            "261d2dd47882414f9418e72dbd776de8",
            "97b01c14ab094ed79ad9cc3c7edc45b4",
            "26762b60d0b04523a908caee15ce7eac",
            "724a874dfb6442a2a277322f86642950",
            "22d0d8cfe62941e8b3fb4c697d0e3535",
            "d81a6b50d49341b8a75d72f48f7accc5",
            "166ce8fcc8a5425a8c6c8bb98f814272",
            "38c9c382bc17474785f11e63dc4b11b2",
            "69735a4606fa46cea8ebe19a98fff50e",
            "a9b7bfeb6bac4126b55ce41dc889049b",
            "e12eda5e88344ce79082e69b3a03e49c",
            "d03d318fae2246749d942993258f115e",
            "b42eb19a507843019ebcc1ee88641c5b",
            "cba2fd4537b344a38547dd6c0c5b1791",
            "59e6b1ceceb645be8c06998ca2ca6a9e",
            "49f3ffa7e8914bd7905916f22aa1c7b0",
            "4d41744054ce4180b2a08b18d988b48a",
            "af1873ce27d544a99afab560fcd7ace6",
            "b50302e3e597418dbc248ff60233b501",
            "a725554c391c42d4b91e450f6d39fbc6",
            "1130473c254e4f039fd192eccd9272d4",
            "7e69746f6de84bd79741a0f7ddcf0475",
            "8046e9e7edd94af9afe37353a1fd1842",
            "772af12db9ac4af9b2faafe4397a7f33",
            "690c8f750508463bb6ebc3fabcd1615f",
            "3d74442b3db24569bf08476639639058",
            "7266395a014545cfaacd7e02a10f6a77",
            "4f62f12b86f9419f8a5f048039e62fd1",
            "2d44f1b26c5b4027997fbbd8e095b501",
            "98a2f9c5391240e998b05801bf15bbdd",
            "8be5b55984544adfb7b30ed623548185",
            "4b0b9f4aba1b4527b8eb29e9ad02afc2",
            "0a80460d01f14e4da20742512da048e0",
            "b6bced5ccaff42f7a76b02caf11ba875",
            "080ceb13c1424952acdb324b694c6a95",
            "985a63caa0c7492890320176db7d5e2b",
            "c43a4e47ddb446378a84c820a84bc5ea",
            "368bf836e7194a8e824c1fd2c171fad5",
            "c9d3496295a5446ba4c31a2766412082",
            "260fbeb6e00a493e849a54e16421a9ee",
            "c6119492d99041469c8a62adb54544df",
            "990c9ac079da4f7fa8c9f9f50e46482b",
            "96c9bfd7bf9a44ad86f978888ff1e0bc",
            "d9d226d77fec48e0b5505ae7f16137f3",
            "c8bf1990292442f3a54c476ae431ec38",
            "451c0a78435b416d8cb7917f7fe9b1b9",
            "657f896e03ce463bb84870bb82c8892f",
            "25c9cd2594ae40f0bc2296cb3bba75d3",
            "8a877ca8539d43599d29c934717015b9",
            "d29ba43b87754f209fc5bf084487ff51",
            "4ca2e5579f144284a8faf2b69165ce45",
            "95bfde4c4c354ae4a19677b271ac5ef2",
            "41e6296db94a4e1a8e1b023c06b5ca53",
            "af1f42c6e5704a7e86dffc75a313793d",
            "f44f15613ba74c39be8cdd83c53a324c",
            "708d283aefb943c989dd8f4070c65079",
            "25fbdf08d5374578887c2537b2adfb41",
            "44987ba80dba45faad7b519ef568d350",
            "2ecd5135ddd3426b8a9bf343de591725",
            "c466a40786ae421b88d60457bc2dc610",
            "982b366d8f274fb8bde9131ccf015dfe",
            "c686c179cab84f0ca168914a2d189e91",
            "798cb733f53a4e4b8d99a86e4dfdea93",
            "45dbde051c52476a97506bbb8936e7cf",
            "c4ee613a89fe4280a3d105856a03ff51",
            "2b7f13dbda7c4ac68dba1e283864c828",
            "b8583e932682414ca44e1afe6af2dbc2",
            "b3387867dd7844dc81f5e68c7bfc6297",
            "4e03d886dd794be89ce780ef00a68042",
            "1ed6a0f64af542abbfd55e2058f14ec4",
            "eef058a215ce4e418195476e2d7f160b",
            "3de0073a410c46b998a424b47b055d94",
            "ff665fabac7a46df8d3d8850fb8c318e",
            "82152c4bdb47471a804891fef9c20a9a"
          ]
        },
        "id": "nj0xFJgIagxl",
        "outputId": "db56c768-a549-4d6b-cc8c-37abcc8650d2"
      },
      "outputs": [
        {
          "data": {
            "application/vnd.jupyter.widget-view+json": {
              "model_id": "3c435a36475b44749e018eaadb9bdbd7",
              "version_major": 2,
              "version_minor": 0
            },
            "text/plain": [
              "config.json:   0%|          | 0.00/1.40k [00:00<?, ?B/s]"
            ]
          },
          "metadata": {},
          "output_type": "display_data"
        },
        {
          "data": {
            "application/vnd.jupyter.widget-view+json": {
              "model_id": "69735a4606fa46cea8ebe19a98fff50e",
              "version_major": 2,
              "version_minor": 0
            },
            "text/plain": [
              "model.safetensors:   0%|          | 0.00/990M [00:00<?, ?B/s]"
            ]
          },
          "metadata": {},
          "output_type": "display_data"
        },
        {
          "data": {
            "application/vnd.jupyter.widget-view+json": {
              "model_id": "a725554c391c42d4b91e450f6d39fbc6",
              "version_major": 2,
              "version_minor": 0
            },
            "text/plain": [
              "generation_config.json:   0%|          | 0.00/147 [00:00<?, ?B/s]"
            ]
          },
          "metadata": {},
          "output_type": "display_data"
        },
        {
          "data": {
            "application/vnd.jupyter.widget-view+json": {
              "model_id": "8be5b55984544adfb7b30ed623548185",
              "version_major": 2,
              "version_minor": 0
            },
            "text/plain": [
              "tokenizer_config.json:   0%|          | 0.00/2.54k [00:00<?, ?B/s]"
            ]
          },
          "metadata": {},
          "output_type": "display_data"
        },
        {
          "data": {
            "application/vnd.jupyter.widget-view+json": {
              "model_id": "990c9ac079da4f7fa8c9f9f50e46482b",
              "version_major": 2,
              "version_minor": 0
            },
            "text/plain": [
              "spiece.model:   0%|          | 0.00/792k [00:00<?, ?B/s]"
            ]
          },
          "metadata": {},
          "output_type": "display_data"
        },
        {
          "data": {
            "application/vnd.jupyter.widget-view+json": {
              "model_id": "41e6296db94a4e1a8e1b023c06b5ca53",
              "version_major": 2,
              "version_minor": 0
            },
            "text/plain": [
              "tokenizer.json:   0%|          | 0.00/2.42M [00:00<?, ?B/s]"
            ]
          },
          "metadata": {},
          "output_type": "display_data"
        },
        {
          "data": {
            "application/vnd.jupyter.widget-view+json": {
              "model_id": "45dbde051c52476a97506bbb8936e7cf",
              "version_major": 2,
              "version_minor": 0
            },
            "text/plain": [
              "special_tokens_map.json:   0%|          | 0.00/2.20k [00:00<?, ?B/s]"
            ]
          },
          "metadata": {},
          "output_type": "display_data"
        },
        {
          "name": "stderr",
          "output_type": "stream",
          "text": [
            "Device set to use cpu\n"
          ]
        },
        {
          "name": "stdout",
          "output_type": "stream",
          "text": [
            "Answer: NEFT or RTGS\n"
          ]
        }
      ],
      "source": [
        "from transformers import pipeline\n",
        "\n",
        "qa_model = pipeline(\"text2text-generation\", model=\"google/flan-t5-base\")\n",
        "\n",
        "context = \" \".join(retrieved_docs)\n",
        "prompt = f\"Answer based on context:\\n{context}\\n\\nQuestion: {query}\"\n",
        "\n",
        "response = qa_model(prompt, max_length=100)[0]['generated_text']\n",
        "print(\"Answer:\", response)\n"
      ]
    },
    {
      "cell_type": "code",
      "execution_count": null,
      "metadata": {
        "colab": {
          "base_uri": "https://localhost:8080/"
        },
        "id": "jXV5IuNLalLi",
        "outputId": "fbdd756b-e4f3-4759-81d2-d60cba2b7c97"
      },
      "outputs": [
        {
          "name": "stderr",
          "output_type": "stream",
          "text": [
            "Device set to use cpu\n"
          ]
        },
        {
          "name": "stdout",
          "output_type": "stream",
          "text": [
            "Answer: NEFT or RTGS\n"
          ]
        }
      ],
      "source": [
        "from transformers import pipeline\n",
        "\n",
        "qa_model = pipeline(\"text2text-generation\", model=\"google/flan-t5-base\")\n",
        "\n",
        "context = \" \".join(retrieved_docs)\n",
        "prompt = f\"Answer based on context:\\n{context}\\n\\nQuestion: {query}\"\n",
        "\n",
        "response = qa_model(prompt, max_length=100)[0]['generated_text']\n",
        "print(\"Answer:\", response)\n"
      ]
    },
    {
      "cell_type": "code",
      "execution_count": null,
      "metadata": {
        "colab": {
          "base_uri": "https://localhost:8080/"
        },
        "id": "vSyYevHCarfA",
        "outputId": "e580e00b-c0d2-4b42-f119-cef7b97385c1"
      },
      "outputs": [
        {
          "name": "stdout",
          "output_type": "stream",
          "text": [
            "--2025-05-15 14:50:56--  https://rajpurkar.github.io/SQuAD-explorer/dataset/train-v1.1.json\n",
            "Resolving rajpurkar.github.io (rajpurkar.github.io)... 185.199.108.153, 185.199.109.153, 185.199.110.153, ...\n",
            "Connecting to rajpurkar.github.io (rajpurkar.github.io)|185.199.108.153|:443... connected.\n",
            "HTTP request sent, awaiting response... 200 OK\n",
            "Length: 30288272 (29M) [application/json]\n",
            "Saving to: ‘train-v1.1.json’\n",
            "\n",
            "train-v1.1.json     100%[===================>]  28.88M   169MB/s    in 0.2s    \n",
            "\n",
            "2025-05-15 14:50:57 (169 MB/s) - ‘train-v1.1.json’ saved [30288272/30288272]\n",
            "\n",
            "Context: Architecturally, the school has a Catholic character. Atop the Main Building's gold dome is a golden statue of the Virgin Mary. Immediately in front of the Main Building and facing it, is a copper sta ...\n",
            "Question: To whom did the Virgin Mary allegedly appear in 1858 in Lourdes France?\n",
            "Answer: Saint Bernadette Soubirous\n"
          ]
        }
      ],
      "source": [
        "from datasets import load_dataset\n",
        "from datasets import load_dataset\n",
        "\n",
        "!wget https://rajpurkar.github.io/SQuAD-explorer/dataset/train-v1.1.json\n",
        "\n",
        "import json\n",
        "\n",
        "with open(\"train-v1.1.json\", \"r\") as f:\n",
        "    squad_data = json.load(f)\n",
        "\n",
        "sample = squad_data[\"data\"][0][\"paragraphs\"][0]\n",
        "context = sample[\"context\"]\n",
        "question = sample[\"qas\"][0][\"question\"]\n",
        "answer = sample[\"qas\"][0][\"answers\"][0][\"text\"]\n",
        "\n",
        "print(\"Context:\", context[:200], \"...\")\n",
        "print(\"Question:\", question)\n",
        "print(\"Answer:\", answer)\n"
      ]
    },
    {
      "cell_type": "code",
      "execution_count": null,
      "metadata": {
        "id": "psFFlIlNaufM"
      },
      "outputs": [],
      "source": [
        "from sklearn.metrics import f1_score\n",
        "\n",
        "y_true = [\"Failed transactions may be reversed within 2–3 business days.\"]\n",
        "y_pred = [response]\n",
        "\n",
        "# Use string overlap or ROUGE/F1 scoring libraries\n"
      ]
    },
    {
      "cell_type": "code",
      "execution_count": null,
      "metadata": {
        "id": "gloI17A_baDw"
      },
      "outputs": [],
      "source": [
        "import pickle\n",
        "\n",
        "with open(\"faiss_index.pkl\", \"wb\") as f:\n",
        "    pickle.dump(index, f)\n"
      ]
    },
    {
      "cell_type": "code",
      "execution_count": null,
      "metadata": {
        "id": "fHTNkzrUbb4F"
      },
      "outputs": [],
      "source": [
        "import pickle\n",
        "\n",
        "with open(\"faiss_index.pkl\", \"wb\") as f:\n",
        "    pickle.dump(index, f)\n"
      ]
    },
    {
      "cell_type": "code",
      "execution_count": null,
      "metadata": {
        "colab": {
          "base_uri": "https://localhost:8080/",
          "height": 1000
        },
        "id": "tx5vLCBRbdn4",
        "outputId": "5c7fda78-4971-417e-8226-9f8e54f75331"
      },
      "outputs": [
        {
          "name": "stdout",
          "output_type": "stream",
          "text": [
            "Collecting gradio\n",
            "  Downloading gradio-5.29.1-py3-none-any.whl.metadata (16 kB)\n",
            "Collecting aiofiles<25.0,>=22.0 (from gradio)\n",
            "  Downloading aiofiles-24.1.0-py3-none-any.whl.metadata (10 kB)\n",
            "Requirement already satisfied: anyio<5.0,>=3.0 in /usr/local/lib/python3.11/dist-packages (from gradio) (4.9.0)\n",
            "Collecting fastapi<1.0,>=0.115.2 (from gradio)\n",
            "  Downloading fastapi-0.115.12-py3-none-any.whl.metadata (27 kB)\n",
            "Collecting ffmpy (from gradio)\n",
            "  Downloading ffmpy-0.5.0-py3-none-any.whl.metadata (3.0 kB)\n",
            "Collecting gradio-client==1.10.1 (from gradio)\n",
            "  Downloading gradio_client-1.10.1-py3-none-any.whl.metadata (7.1 kB)\n",
            "Collecting groovy~=0.1 (from gradio)\n",
            "  Downloading groovy-0.1.2-py3-none-any.whl.metadata (6.1 kB)\n",
            "Requirement already satisfied: httpx>=0.24.1 in /usr/local/lib/python3.11/dist-packages (from gradio) (0.28.1)\n",
            "Requirement already satisfied: huggingface-hub>=0.28.1 in /usr/local/lib/python3.11/dist-packages (from gradio) (0.31.1)\n",
            "Requirement already satisfied: jinja2<4.0 in /usr/local/lib/python3.11/dist-packages (from gradio) (3.1.6)\n",
            "Requirement already satisfied: markupsafe<4.0,>=2.0 in /usr/local/lib/python3.11/dist-packages (from gradio) (3.0.2)\n",
            "Requirement already satisfied: numpy<3.0,>=1.0 in /usr/local/lib/python3.11/dist-packages (from gradio) (2.0.2)\n",
            "Requirement already satisfied: orjson~=3.0 in /usr/local/lib/python3.11/dist-packages (from gradio) (3.10.18)\n",
            "Requirement already satisfied: packaging in /usr/local/lib/python3.11/dist-packages (from gradio) (24.2)\n",
            "Requirement already satisfied: pandas<3.0,>=1.0 in /usr/local/lib/python3.11/dist-packages (from gradio) (2.2.2)\n",
            "Requirement already satisfied: pillow<12.0,>=8.0 in /usr/local/lib/python3.11/dist-packages (from gradio) (11.2.1)\n",
            "Requirement already satisfied: pydantic<2.12,>=2.0 in /usr/local/lib/python3.11/dist-packages (from gradio) (2.11.4)\n",
            "Collecting pydub (from gradio)\n",
            "  Downloading pydub-0.25.1-py2.py3-none-any.whl.metadata (1.4 kB)\n",
            "Collecting python-multipart>=0.0.18 (from gradio)\n",
            "  Downloading python_multipart-0.0.20-py3-none-any.whl.metadata (1.8 kB)\n",
            "Requirement already satisfied: pyyaml<7.0,>=5.0 in /usr/local/lib/python3.11/dist-packages (from gradio) (6.0.2)\n",
            "Collecting ruff>=0.9.3 (from gradio)\n",
            "  Downloading ruff-0.11.10-py3-none-manylinux_2_17_x86_64.manylinux2014_x86_64.whl.metadata (25 kB)\n",
            "Collecting safehttpx<0.2.0,>=0.1.6 (from gradio)\n",
            "  Downloading safehttpx-0.1.6-py3-none-any.whl.metadata (4.2 kB)\n",
            "Collecting semantic-version~=2.0 (from gradio)\n",
            "  Downloading semantic_version-2.10.0-py2.py3-none-any.whl.metadata (9.7 kB)\n",
            "Collecting starlette<1.0,>=0.40.0 (from gradio)\n",
            "  Downloading starlette-0.46.2-py3-none-any.whl.metadata (6.2 kB)\n",
            "Collecting tomlkit<0.14.0,>=0.12.0 (from gradio)\n",
            "  Downloading tomlkit-0.13.2-py3-none-any.whl.metadata (2.7 kB)\n",
            "Requirement already satisfied: typer<1.0,>=0.12 in /usr/local/lib/python3.11/dist-packages (from gradio) (0.15.3)\n",
            "Requirement already satisfied: typing-extensions~=4.0 in /usr/local/lib/python3.11/dist-packages (from gradio) (4.13.2)\n",
            "Collecting uvicorn>=0.14.0 (from gradio)\n",
            "  Downloading uvicorn-0.34.2-py3-none-any.whl.metadata (6.5 kB)\n",
            "Requirement already satisfied: fsspec in /usr/local/lib/python3.11/dist-packages (from gradio-client==1.10.1->gradio) (2025.3.2)\n",
            "Requirement already satisfied: websockets<16.0,>=10.0 in /usr/local/lib/python3.11/dist-packages (from gradio-client==1.10.1->gradio) (15.0.1)\n",
            "Requirement already satisfied: idna>=2.8 in /usr/local/lib/python3.11/dist-packages (from anyio<5.0,>=3.0->gradio) (3.10)\n",
            "Requirement already satisfied: sniffio>=1.1 in /usr/local/lib/python3.11/dist-packages (from anyio<5.0,>=3.0->gradio) (1.3.1)\n",
            "Requirement already satisfied: certifi in /usr/local/lib/python3.11/dist-packages (from httpx>=0.24.1->gradio) (2025.4.26)\n",
            "Requirement already satisfied: httpcore==1.* in /usr/local/lib/python3.11/dist-packages (from httpx>=0.24.1->gradio) (1.0.9)\n",
            "Requirement already satisfied: h11>=0.16 in /usr/local/lib/python3.11/dist-packages (from httpcore==1.*->httpx>=0.24.1->gradio) (0.16.0)\n",
            "Requirement already satisfied: filelock in /usr/local/lib/python3.11/dist-packages (from huggingface-hub>=0.28.1->gradio) (3.18.0)\n",
            "Requirement already satisfied: requests in /usr/local/lib/python3.11/dist-packages (from huggingface-hub>=0.28.1->gradio) (2.32.3)\n",
            "Requirement already satisfied: tqdm>=4.42.1 in /usr/local/lib/python3.11/dist-packages (from huggingface-hub>=0.28.1->gradio) (4.67.1)\n",
            "Requirement already satisfied: hf-xet<2.0.0,>=1.1.0 in /usr/local/lib/python3.11/dist-packages (from huggingface-hub>=0.28.1->gradio) (1.1.0)\n",
            "Requirement already satisfied: python-dateutil>=2.8.2 in /usr/local/lib/python3.11/dist-packages (from pandas<3.0,>=1.0->gradio) (2.9.0.post0)\n",
            "Requirement already satisfied: pytz>=2020.1 in /usr/local/lib/python3.11/dist-packages (from pandas<3.0,>=1.0->gradio) (2025.2)\n",
            "Requirement already satisfied: tzdata>=2022.7 in /usr/local/lib/python3.11/dist-packages (from pandas<3.0,>=1.0->gradio) (2025.2)\n",
            "Requirement already satisfied: annotated-types>=0.6.0 in /usr/local/lib/python3.11/dist-packages (from pydantic<2.12,>=2.0->gradio) (0.7.0)\n",
            "Requirement already satisfied: pydantic-core==2.33.2 in /usr/local/lib/python3.11/dist-packages (from pydantic<2.12,>=2.0->gradio) (2.33.2)\n",
            "Requirement already satisfied: typing-inspection>=0.4.0 in /usr/local/lib/python3.11/dist-packages (from pydantic<2.12,>=2.0->gradio) (0.4.0)\n",
            "Requirement already satisfied: click>=8.0.0 in /usr/local/lib/python3.11/dist-packages (from typer<1.0,>=0.12->gradio) (8.1.8)\n",
            "Requirement already satisfied: shellingham>=1.3.0 in /usr/local/lib/python3.11/dist-packages (from typer<1.0,>=0.12->gradio) (1.5.4)\n",
            "Requirement already satisfied: rich>=10.11.0 in /usr/local/lib/python3.11/dist-packages (from typer<1.0,>=0.12->gradio) (13.9.4)\n",
            "Requirement already satisfied: six>=1.5 in /usr/local/lib/python3.11/dist-packages (from python-dateutil>=2.8.2->pandas<3.0,>=1.0->gradio) (1.17.0)\n",
            "Requirement already satisfied: markdown-it-py>=2.2.0 in /usr/local/lib/python3.11/dist-packages (from rich>=10.11.0->typer<1.0,>=0.12->gradio) (3.0.0)\n",
            "Requirement already satisfied: pygments<3.0.0,>=2.13.0 in /usr/local/lib/python3.11/dist-packages (from rich>=10.11.0->typer<1.0,>=0.12->gradio) (2.19.1)\n",
            "Requirement already satisfied: charset-normalizer<4,>=2 in /usr/local/lib/python3.11/dist-packages (from requests->huggingface-hub>=0.28.1->gradio) (3.4.2)\n",
            "Requirement already satisfied: urllib3<3,>=1.21.1 in /usr/local/lib/python3.11/dist-packages (from requests->huggingface-hub>=0.28.1->gradio) (2.4.0)\n",
            "Requirement already satisfied: mdurl~=0.1 in /usr/local/lib/python3.11/dist-packages (from markdown-it-py>=2.2.0->rich>=10.11.0->typer<1.0,>=0.12->gradio) (0.1.2)\n",
            "Downloading gradio-5.29.1-py3-none-any.whl (54.1 MB)\n",
            "\u001b[2K   \u001b[90m━━━━━━━━━━━━━━━━━━━━━━━━━━━━━━━━━━━━━━━━\u001b[0m \u001b[32m54.1/54.1 MB\u001b[0m \u001b[31m19.5 MB/s\u001b[0m eta \u001b[36m0:00:00\u001b[0m\n",
            "\u001b[?25hDownloading gradio_client-1.10.1-py3-none-any.whl (323 kB)\n",
            "\u001b[2K   \u001b[90m━━━━━━━━━━━━━━━━━━━━━━━━━━━━━━━━━━━━━━━━\u001b[0m \u001b[32m323.1/323.1 kB\u001b[0m \u001b[31m16.4 MB/s\u001b[0m eta \u001b[36m0:00:00\u001b[0m\n",
            "\u001b[?25hDownloading aiofiles-24.1.0-py3-none-any.whl (15 kB)\n",
            "Downloading fastapi-0.115.12-py3-none-any.whl (95 kB)\n",
            "\u001b[2K   \u001b[90m━━━━━━━━━━━━━━━━━━━━━━━━━━━━━━━━━━━━━━━━\u001b[0m \u001b[32m95.2/95.2 kB\u001b[0m \u001b[31m3.5 MB/s\u001b[0m eta \u001b[36m0:00:00\u001b[0m\n",
            "\u001b[?25hDownloading groovy-0.1.2-py3-none-any.whl (14 kB)\n",
            "Downloading python_multipart-0.0.20-py3-none-any.whl (24 kB)\n",
            "Downloading ruff-0.11.10-py3-none-manylinux_2_17_x86_64.manylinux2014_x86_64.whl (11.6 MB)\n",
            "\u001b[2K   \u001b[90m━━━━━━━━━━━━━━━━━━━━━━━━━━━━━━━━━━━━━━━━\u001b[0m \u001b[32m11.6/11.6 MB\u001b[0m \u001b[31m87.7 MB/s\u001b[0m eta \u001b[36m0:00:00\u001b[0m\n",
            "\u001b[?25hDownloading safehttpx-0.1.6-py3-none-any.whl (8.7 kB)\n",
            "Downloading semantic_version-2.10.0-py2.py3-none-any.whl (15 kB)\n",
            "Downloading starlette-0.46.2-py3-none-any.whl (72 kB)\n",
            "\u001b[2K   \u001b[90m━━━━━━━━━━━━━━━━━━━━━━━━━━━━━━━━━━━━━━━━\u001b[0m \u001b[32m72.0/72.0 kB\u001b[0m \u001b[31m3.1 MB/s\u001b[0m eta \u001b[36m0:00:00\u001b[0m\n",
            "\u001b[?25hDownloading tomlkit-0.13.2-py3-none-any.whl (37 kB)\n",
            "Downloading uvicorn-0.34.2-py3-none-any.whl (62 kB)\n",
            "\u001b[2K   \u001b[90m━━━━━━━━━━━━━━━━━━━━━━━━━━━━━━━━━━━━━━━━\u001b[0m \u001b[32m62.5/62.5 kB\u001b[0m \u001b[31m4.3 MB/s\u001b[0m eta \u001b[36m0:00:00\u001b[0m\n",
            "\u001b[?25hDownloading ffmpy-0.5.0-py3-none-any.whl (6.0 kB)\n",
            "Downloading pydub-0.25.1-py2.py3-none-any.whl (32 kB)\n",
            "Installing collected packages: pydub, uvicorn, tomlkit, semantic-version, ruff, python-multipart, groovy, ffmpy, aiofiles, starlette, safehttpx, gradio-client, fastapi, gradio\n",
            "Successfully installed aiofiles-24.1.0 fastapi-0.115.12 ffmpy-0.5.0 gradio-5.29.1 gradio-client-1.10.1 groovy-0.1.2 pydub-0.25.1 python-multipart-0.0.20 ruff-0.11.10 safehttpx-0.1.6 semantic-version-2.10.0 starlette-0.46.2 tomlkit-0.13.2 uvicorn-0.34.2\n",
            "It looks like you are running Gradio on a hosted a Jupyter notebook. For the Gradio app to work, sharing must be enabled. Automatically setting `share=True` (you can turn this off by setting `share=False` in `launch()` explicitly).\n",
            "\n",
            "Colab notebook detected. To show errors in colab notebook, set debug=True in launch()\n",
            "* Running on public URL: https://0a7394317a5d96e8d3.gradio.live\n",
            "\n",
            "This share link expires in 1 week. For free permanent hosting and GPU upgrades, run `gradio deploy` from the terminal in the working directory to deploy to Hugging Face Spaces (https://huggingface.co/spaces)\n"
          ]
        },
        {
          "data": {
            "text/html": [
              "<div><iframe src=\"https://0a7394317a5d96e8d3.gradio.live\" width=\"100%\" height=\"500\" allow=\"autoplay; camera; microphone; clipboard-read; clipboard-write;\" frameborder=\"0\" allowfullscreen></iframe></div>"
            ],
            "text/plain": [
              "<IPython.core.display.HTML object>"
            ]
          },
          "metadata": {},
          "output_type": "display_data"
        },
        {
          "data": {
            "text/plain": []
          },
          "execution_count": 14,
          "metadata": {},
          "output_type": "execute_result"
        }
      ],
      "source": [
        "!pip install gradio\n",
        "import gradio as gr\n",
        "\n",
        "def answer_question(q):\n",
        "    q_vec = embedder.encode([q])\n",
        "    _, idx = index.search(np.array(q_vec), k=2)\n",
        "    context = \" \".join([docs[i] for i in idx[0]])\n",
        "    prompt = f\"Answer based on: {context}\\n\\nQuestion: {q}\"\n",
        "    return qa_model(prompt)[0]['generated_text']\n",
        "\n",
        "gr.Interface(fn=answer_question, inputs=\"text\", outputs=\"text\").launch()\n"
      ]
    },
    {
      "cell_type": "code",
      "execution_count": null,
      "metadata": {
        "id": "OM9fiWPubgof"
      },
      "outputs": [],
      "source": []
    }
  ],
  "metadata": {
    "accelerator": "GPU",
    "colab": {
      "gpuType": "T4",
      "provenance": [],
      "include_colab_link": true
    },
    "kernelspec": {
      "display_name": "Python 3",
      "name": "python3"
    },
    "language_info": {
      "name": "python"
    }
  },
  "nbformat": 4,
  "nbformat_minor": 0
}